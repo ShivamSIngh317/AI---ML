{
  "cells": [
    {
      "cell_type": "markdown",
      "metadata": {
        "id": "qcV0GNfbm2MC"
      },
      "source": [
        "______\n",
        "**1. Write a program to initialize a dictionary (of your choice) and create a pandas DataFrame from it. Print the dataframe?**"
      ]
    },
    {
      "cell_type": "code",
      "execution_count": null,
      "metadata": {
        "id": "b8TpzXd5m2MD"
      },
      "outputs": [],
      "source": [
        "#Code here\n",
        "import pandas as pd\n",
        "\n",
        "\n",
        "data = {\n",
        "    'Name': ['Shivam', 'Rohan', 'Tannu', 'Dev'],\n",
        "    'Age': [19, 18, 20, 18],\n",
        "    'City': ['Delhi', 'Rajasthan', 'Himachal', 'West Bengal'],\n",
        "}\n",
        "\n",
        "df = pd.DataFrame(data)\n"
      ]
    },
    {
      "cell_type": "markdown",
      "metadata": {
        "id": "TKhMaxxZm2MD"
      },
      "source": [
        "___\n",
        "**2. Write a program to read the CSV file \"summer.csv\" into a pandas DataFrame \"df\", display the first 5 rows, and print the DataFrame's shape**"
      ]
    },
    {
      "cell_type": "code",
      "execution_count": null,
      "metadata": {
        "id": "X3KlxWcfm2MD"
      },
      "outputs": [],
      "source": [
        "#Code here\n",
        "import pandas as pd\n",
        "\n",
        "df = pd.read_csv(\"summer.csv\")\n",
        "print(df.head())\n",
        "print(df.shape)"
      ]
    },
    {
      "cell_type": "markdown",
      "metadata": {
        "id": "hhREPppvm2MD"
      },
      "source": [
        "___\n",
        "**3. Write a program to display the last 10 rows of the DataFrame?**"
      ]
    },
    {
      "cell_type": "code",
      "execution_count": null,
      "metadata": {
        "id": "0LMVJXRPm2ME"
      },
      "outputs": [],
      "source": [
        "#Code here\n",
        "df = pd.read_csv(\"summer.csv\")\n",
        "print(df.tail(10))"
      ]
    },
    {
      "cell_type": "markdown",
      "metadata": {
        "id": "F53jodYXm2ME"
      },
      "source": [
        "___\n",
        "**4. Write a program to get a summary of the DataFrame (such as the mean, count, etc.) and print the data types of all columns?**"
      ]
    },
    {
      "cell_type": "code",
      "execution_count": null,
      "metadata": {
        "id": "Jf8-scn7m2ME"
      },
      "outputs": [],
      "source": [
        "#Code here\n",
        "df = pd.read_csv(\"summer.csv\")\n",
        "print(df.describe(include='all'))\n",
        "print(df.dtypes)"
      ]
    },
    {
      "cell_type": "markdown",
      "metadata": {
        "id": "1Qa4jQAlm2ME"
      },
      "source": [
        "___\n",
        "**5. Write a program to select a single column \"Gender\" from the DataFrame?**"
      ]
    },
    {
      "cell_type": "code",
      "execution_count": null,
      "metadata": {
        "id": "kVCfVte4m2ME"
      },
      "outputs": [],
      "source": [
        "#Code here\n",
        "df = pd.read_csv(\"summer.csv\")"
      ]
    },
    {
      "cell_type": "markdown",
      "metadata": {
        "id": "rxmLBA_5m2ME"
      },
      "source": [
        "___\n",
        "**6. Write a program to select multiple columns \"Year\" and \"City\" from the DataFrame?**"
      ]
    },
    {
      "cell_type": "code",
      "execution_count": null,
      "metadata": {
        "id": "HgDXSaBzm2ME"
      },
      "outputs": [],
      "source": [
        "#Code here\n",
        "df = pd.read_csv(\"summer.csv\")\n",
        "print(df[[\"Year\", \"City\"]])"
      ]
    },
    {
      "cell_type": "markdown",
      "metadata": {
        "id": "RR621DH9m2ME"
      },
      "source": [
        "___\n",
        "**7. Write a program to  filter rows in a DataFrame based on the condition that Gender = Men ?**"
      ]
    },
    {
      "cell_type": "code",
      "execution_count": null,
      "metadata": {
        "id": "-6jOhf_qm2ME"
      },
      "outputs": [],
      "source": [
        "#Code here\n",
        "df = pd.read_csv(\"summer.csv\")\n",
        "men_df = df[df[\"Gender\"] == \"Men\"]\n",
        "print(men_df)"
      ]
    },
    {
      "cell_type": "markdown",
      "metadata": {
        "id": "24rVH2uLm2ME"
      },
      "source": [
        "___\n",
        "**8. Write a program to select and print the first 5 rows and columns 2 to 6 (inclusive) of the DataFrame. Also, print the type of the resulting object?**"
      ]
    },
    {
      "cell_type": "code",
      "execution_count": null,
      "metadata": {
        "id": "fc1kT-pam2ME"
      },
      "outputs": [],
      "source": [
        "#Code here\n",
        "df = pd.read_csv(\"summer.csv\")\n",
        "subset = df.iloc[:5, 1:6]\n",
        "print(subset)\n",
        "print(type(subset))"
      ]
    },
    {
      "cell_type": "markdown",
      "metadata": {
        "id": "HIQHrOp9m2MF"
      },
      "source": [
        "___\n",
        "**9. Write a program to  delete a column \"City\" from the DataFrame and print the new dataframe??**"
      ]
    },
    {
      "cell_type": "code",
      "execution_count": null,
      "metadata": {
        "id": "Vj7EGDH1m2MF"
      },
      "outputs": [],
      "source": [
        "#Code here\n",
        "df = pd.read_csv(\"summer.csv\")\n",
        "df = df.drop(\"City\", axis=1)\n",
        "print(df)"
      ]
    },
    {
      "cell_type": "markdown",
      "metadata": {
        "id": "oxocLbZEm2MF"
      },
      "source": [
        "___\n",
        "**10. Write a program to  rename a column \"Athlete\" to \"Participants\" in the DataFrame?**"
      ]
    },
    {
      "cell_type": "code",
      "execution_count": null,
      "metadata": {
        "id": "HD5JU-J7m2MF"
      },
      "outputs": [],
      "source": [
        "#Code here\n",
        "df = pd.read_csv(\"summer.csv\")\n",
        "df = df.rename(columns={\"Athlete\": \"Participants\"})\n",
        "print(df)"
      ]
    },
    {
      "cell_type": "markdown",
      "metadata": {
        "id": "bvpYy245m2MF"
      },
      "source": [
        "___\n",
        "**11. Write a program to select and print the \"Participants\", \"Medal\" and \"Event\" columns for index 10 and 201 from the DataFrame.?**"
      ]
    },
    {
      "cell_type": "code",
      "execution_count": null,
      "metadata": {
        "id": "OSgRIQdpm2MF"
      },
      "outputs": [],
      "source": [
        "#Code here\n",
        "print(df.loc[[10, 201], [\"Participants\", \"Medal\", \"Event\"]])\n"
      ]
    },
    {
      "cell_type": "markdown",
      "metadata": {
        "id": "Zunfeqkym2MF"
      },
      "source": [
        "___\n",
        "**12. Write a program to display the first 10 rows of the df DataFrame and check for any missing values in each column.?**"
      ]
    },
    {
      "cell_type": "code",
      "execution_count": null,
      "metadata": {
        "id": "i-sDeIWNm2MF"
      },
      "outputs": [],
      "source": [
        "#Code here\n",
        "print(df.head(10))  \n",
        "print(\"\\nMissing values in each column:\\n\", df.isnull().sum())\n"
      ]
    },
    {
      "cell_type": "markdown",
      "metadata": {
        "id": "CCLtjf9pm2MF"
      },
      "source": [
        "___\n",
        "**13. Write a program to select and print the \"Country\" and \"Medal\" columns from the df DataFrame, and then print the number of unique values in each of these columns.?**"
      ]
    },
    {
      "cell_type": "code",
      "execution_count": null,
      "metadata": {
        "id": "Zc5EF7Okm2MF"
      },
      "outputs": [],
      "source": [
        "#Code here\n",
        "subset = df[[\"Country\", \"Medal\"]]\n",
        "print(subset)\n",
        "\n",
        "print(\"\\nUnique values count:\")\n",
        "print(subset.nunique())\n"
      ]
    },
    {
      "cell_type": "markdown",
      "metadata": {
        "id": "FWgnrlx4m2MF"
      },
      "source": [
        "___\n",
        "**14. Write a program to group the df DataFrame by the \"Country\" column and calculate the total number of medals for each country. Print the result.?**"
      ]
    },
    {
      "cell_type": "code",
      "execution_count": null,
      "metadata": {
        "id": "fRVgoVKhm2MG"
      },
      "outputs": [],
      "source": [
        "#Code here\n",
        "medals_per_country = df.groupby(\"Country\")[\"Medal\"].count()\n",
        "print(medals_per_country)\n"
      ]
    },
    {
      "cell_type": "markdown",
      "metadata": {
        "id": "Kr2Yrim7m2MG"
      },
      "source": [
        "___\n",
        "**15. Write a program to sort the df DataFrame by the \"Year\" column in descending order and print the first 5 rows of the sorted DataFrame.?**"
      ]
    },
    {
      "cell_type": "code",
      "execution_count": null,
      "metadata": {
        "id": "z7KZfXgxm2MG"
      },
      "outputs": [],
      "source": [
        "#Code here\n",
        "sorted_df = df.sort_values(by=\"Year\", ascending=False)\n",
        "print(sorted_df.head(5))\n"
      ]
    },
    {
      "cell_type": "markdown",
      "metadata": {
        "id": "h_C8jJjSm2MG"
      },
      "source": [
        "___\n",
        "**16. Write a program to add a new column \"Century\" to the df DataFrame. Classify each event as occurring in the \"20th Century\" if the \"Year\" is less than 2000, or the \"21st Century\" if the \"Year\" is 2000 or later. Print the first 5 rows to verify the change.**"
      ]
    },
    {
      "cell_type": "code",
      "execution_count": null,
      "metadata": {
        "id": "1-iS6bAim2MG"
      },
      "outputs": [],
      "source": [
        "#Code here\n",
        "df[\"Century\"] = df[\"Year\"].apply(lambda y: \"20th Century\" if y < 2000 else \"21st Century\")\n",
        "print(df.head(5))\n"
      ]
    },
    {
      "cell_type": "markdown",
      "metadata": {
        "id": "BHc07ICSm2MH"
      },
      "source": [
        "___\n",
        "**17. Write a program to filter and print rows from the df DataFrame where the \"Country\" is \"USA\" and the \"Medal\" is \"Gold\". Also, count the number of rows that meet this condition.**"
      ]
    },
    {
      "cell_type": "code",
      "execution_count": null,
      "metadata": {
        "id": "m7C99lk_m2MH"
      },
      "outputs": [],
      "source": [
        "#Code here\n",
        "usa_gold = df[(df[\"Country\"] == \"USA\") & (df[\"Medal\"] == \"Gold\")]\n",
        "print(usa_gold)\n",
        "\n",
        "print(\"\\nTotal USA Gold medals:\", len(usa_gold))\n"
      ]
    },
    {
      "cell_type": "markdown",
      "metadata": {
        "id": "MhnhQ1Erm2MH"
      },
      "source": [
        "___\n",
        "**18. Write a program to create a new column \"Medal Points\" in the df DataFrame. Assign 3 points for \"Gold\", 2 points for \"Silver\", and 1 point for \"Bronze\". Print the first 5 rows to verify the changes.**"
      ]
    },
    {
      "cell_type": "code",
      "execution_count": null,
      "metadata": {
        "id": "6f_CLPsom2MH"
      },
      "outputs": [],
      "source": [
        "#Code here\n",
        "points_map = {\"Gold\": 3, \"Silver\": 2, \"Bronze\": 1}\n",
        "df[\"Medal Points\"] = df[\"Medal\"].map(points_map)\n",
        "print(df.head(5))\n"
      ]
    },
    {
      "cell_type": "markdown",
      "metadata": {
        "id": "_w8CAZoGm2MH"
      },
      "source": [
        "___\n",
        "**19. Write a program to filter the df DataFrame to include only rows where the \"Country\" is \"USA\". Then, group the filtered DataFrame by \"Year\" and calculate the total number of medals won by the USA each year. Print the results.**"
      ]
    },
    {
      "cell_type": "code",
      "execution_count": null,
      "metadata": {
        "id": "PZwGcKaEm2MH"
      },
      "outputs": [],
      "source": [
        "#Code here\n",
        "usa_df = df[df[\"Country\"] == \"USA\"]\n",
        "usa_medals_per_year = usa_df.groupby(\"Year\")[\"Medal\"].count()\n",
        "print(usa_medals_per_year)\n"
      ]
    },
    {
      "cell_type": "markdown",
      "metadata": {
        "id": "Fo3Zq-mTm2MH"
      },
      "source": [
        "___\n",
        "**20. Write a program to identify the athlete who has won the most medals. Display the athlete's name and the total number of medals they have won.**"
      ]
    },
    {
      "cell_type": "code",
      "execution_count": null,
      "metadata": {
        "id": "qF5-f6sKm2MH"
      },
      "outputs": [],
      "source": [
        "#Code here\n",
        "top_athlete = df[\"Athlete\"].value_counts().idxmax()\n",
        "medal_count = df[\"Athlete\"].value_counts().max()\n",
        "\n",
        "print(f\"Athlete with most medals: {top_athlete} ({medal_count} medals)\")\n"
      ]
    },
    {
      "cell_type": "markdown",
      "metadata": {
        "id": "QPwEMGiOm2MH"
      },
      "source": [
        "___\n",
        "**21. Write a program to group the df DataFrame by the \"Sport\" column and calculate the number of each type of medal (Gold, Silver, Bronze) for each sport. Print the results.**"
      ]
    },
    {
      "cell_type": "code",
      "execution_count": null,
      "metadata": {
        "id": "L7LEmyW8m2MH"
      },
      "outputs": [],
      "source": [
        "#Code here\n",
        "medals_by_sport = df.groupby([\"Sport\", \"Medal\"]).size().unstack(fill_value=0)\n",
        "print(medals_by_sport)\n"
      ]
    },
    {
      "cell_type": "markdown",
      "metadata": {
        "id": "pBOrlEawm2MH"
      },
      "source": [
        "### Good Luck!"
      ]
    }
  ],
  "metadata": {
    "colab": {
      "provenance": []
    },
    "kernelspec": {
      "display_name": "Python 3 (ipykernel)",
      "language": "python",
      "name": "python3"
    },
    "language_info": {
      "codemirror_mode": {
        "name": "ipython",
        "version": 3
      },
      "file_extension": ".py",
      "mimetype": "text/x-python",
      "name": "python",
      "nbconvert_exporter": "python",
      "pygments_lexer": "ipython3",
      "version": "3.11.7"
    }
  },
  "nbformat": 4,
  "nbformat_minor": 0
}
