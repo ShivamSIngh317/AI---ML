{
  "cells": [
    {
      "cell_type": "markdown",
      "metadata": {
        "id": "OFXWAyjVjXuL"
      },
      "source": [
        "___\n",
        "**1. Write a Python program to create a bar graph that displays the population of five\n",
        "different cities. Customize the bar graph by adding a title, labels for the axes, and\n",
        "different colors for each bar.**\n",
        "___"
      ]
    },
    {
      "cell_type": "code",
      "execution_count": null,
      "metadata": {
        "id": "Ul2e0XA3jXuL"
      },
      "outputs": [],
      "source": [
        "import matplotlib.pyplot as plt\n",
        "# Data\n",
        "cities = ['New York', 'Los Angeles', 'Chicago', 'Houston', 'Phoenix']\n",
        "populations = [8419000, 3980000, 2716000, 2328000, 1690000]\n",
        "\n",
        "#Code here::\n",
        "\n",
        "plt.title(\"Population of Five Cities in the USA\")\n",
        "plt.xlabel(\"Cities\")\n",
        "plt.ylabel(\"Population\")\n",
        "plt.xticks(rotation=20)\n",
        "\n",
        "plt.show()\n"
      ]
    },
    {
      "cell_type": "markdown",
      "metadata": {
        "id": "mvoCjFlNjXuL"
      },
      "source": [
        "___\n",
        "**2. Write a Python program to create a pie chart that represents the market share\n",
        " of different smartphone brands. Label each wedge with the brand name and percentage, and\n",
        " highlight (explode) the wedge representing higher market share.**\n",
        " ___"
      ]
    },
    {
      "cell_type": "code",
      "execution_count": null,
      "metadata": {
        "id": "DwHetcaHjXuM"
      },
      "outputs": [],
      "source": [
        "# Data\n",
        "brands = ['Apple', 'Samsung', 'Huawei', 'Xiaomi', 'Oppo']\n",
        "market_share = [27.5, 21.3, 15.8, 10.5, 8.3]\n",
        "\n",
        "#Code here::\n",
        "\n",
        "explode = [0.1 if share == max(market_share) else 0 for share in market_share]\n",
        "\n",
        "plt.pie(market_share, labels=brands, autopct='%1.1f%%', startangle=90, explode=explode, shadow=True)\n",
        "\n",
        "plt.title(\"Smartphone Market Share\")\n",
        "plt.show()"
      ]
    },
    {
      "cell_type": "markdown",
      "metadata": {
        "id": "tPDvQZIxjXuM"
      },
      "source": [
        "___\n",
        "**3. Create a Python program that generates a scatter plot using the provided data. Customize the plot by:\n",
        "Setting the size of each point to 100,\n",
        "adding a title \"Scatter Plot\", and\n",
        "labeling the x-axis as \"X Values\" and the y-axis as \"Y Values\".**\n",
        "___"
      ]
    },
    {
      "cell_type": "code",
      "execution_count": null,
      "metadata": {
        "id": "eltL3MT_jXuM"
      },
      "outputs": [],
      "source": [
        "# Data\n",
        "x = [5, 15, 25, 35, 45, 55, 65, 75, 85, 95]\n",
        "y = [10, 30, 20, 40, 60, 80, 70, 90, 50, 100]\n",
        "\n",
        "#Code here::\n",
        "\n",
        "plt.scatter(x, y, s=100)\n",
        "\n",
        "plt.title(\"Scatter Plot\")\n",
        "plt.xlabel(\"X Values\")\n",
        "plt.ylabel(\"Y Values\")\n",
        "\n",
        "plt.show()\n"
      ]
    },
    {
      "cell_type": "markdown",
      "metadata": {
        "id": "TA_akf2ijXuM"
      },
      "source": [
        "___\n",
        "**4. Write a Python program to create a scatter plot with custom markers\n",
        "Customize the markers to have different colors and sizes.**\n",
        "___"
      ]
    },
    {
      "cell_type": "code",
      "execution_count": null,
      "metadata": {
        "id": "ANKQM04EjXuM"
      },
      "outputs": [],
      "source": [
        "# Data\n",
        "x = [1, 2, 3, 4, 5, 6, 7, 8, 9, 10]\n",
        "y = [10, 20, 25, 30, 35, 40, 45, 50, 55, 60]\n",
        "colors = ['red', 'blue', 'green', 'purple', 'orange', 'brown', 'pink', 'gray', 'olive', 'cyan']\n",
        "sizes = [50, 100, 150, 200, 250, 300, 350, 400, 450, 500]\n",
        "\n",
        "#Code here::\n",
        "plt.scatter(X, Y, c=colors, s=sizes)\n",
        "\n",
        "plt.title(\"Custom Marker Scatter Plot\")\n",
        "plt.xlabel(\"X Values\")\n",
        "plt.ylabel(\"Y Values\")\n",
        "\n",
        "plt.show()\n",
        "\n"
      ]
    },
    {
      "cell_type": "markdown",
      "metadata": {
        "id": "HQxgkYqajXuM"
      },
      "source": [
        "___\n",
        "**5. Write a Python program to create a line plot that shows the performance of three different students over five exams.Plot all three lines on the same graph, using different colors and markers for each line. Add a legend to identify each student.**\n",
        "___"
      ]
    },
    {
      "cell_type": "code",
      "execution_count": null,
      "metadata": {
        "id": "qm1sjGNQjXuM"
      },
      "outputs": [],
      "source": [
        "# Data\n",
        "exams = [1, 2, 3, 4, 5]\n",
        "student1_scores = [80, 85, 88, 90, 92]\n",
        "student2_scores = [78, 82, 85, 87, 89]\n",
        "student3_scores = [75, 80, 82, 85, 88]\n",
        "\n",
        "#Code here::\n",
        "plt.plot(exams, student1_scores, marker='o', color='blue', label='Student 1')\n",
        "plt.plot(exams, student2_scores, marker='s', color='green', label='Student 2')\n",
        "plt.plot(exams, student3_scores, marker='^', color='red', label='Student 3')\n",
        "\n",
        "plt.title(\"Students' Performance Over Exams\")\n",
        "plt.xlabel(\"Exam Number\")\n",
        "plt.ylabel(\"Scores\")\n",
        "plt.legend()\n",
        "\n",
        "plt.show()\n"
      ]
    },
    {
      "cell_type": "markdown",
      "metadata": {
        "id": "b-RbkZMijXuM"
      },
      "source": [
        "___\n",
        "**6. Write a Python program to create a stacked bar chart that represents the sales of three different products over four quarters. use different colors for each product, and add a legend.**\n",
        "___"
      ]
    },
    {
      "cell_type": "code",
      "execution_count": null,
      "metadata": {
        "id": "3wwqMYAcjXuM"
      },
      "outputs": [],
      "source": [
        "# Data\n",
        "quarters = ['Q1', 'Q2', 'Q3', 'Q4']\n",
        "product1_sales = [150, 200, 250, 300]\n",
        "product2_sales = [100, 150, 200, 250]\n",
        "product3_sales = [50, 100, 150, 200]\n",
        "\n",
        "#Code here::\n",
        "\n",
        "plt.bar(quarters, product1_sales, color='blue', label='Product 1')\n",
        "plt.bar(quarters, product2_sales, bottom=product1_sales, color='green', label='Product 2')\n",
        "plt.bar(quarters, product3_sales, bottom=[p1 + p2 for p1, p2 in zip(product1_sales, product2_sales)], color='red', label='Product 3')\n",
        "\n",
        "plt.title(\"Sales of Three Products Over Four Quarters\")\n",
        "plt.xlabel(\"Quarters\")\n",
        "plt.ylabel(\"Sales\")\n",
        "plt.legend()\n",
        "\n",
        "plt.show()"
      ]
    },
    {
      "cell_type": "markdown",
      "metadata": {
        "id": "Y3VTMXvEjXuM"
      },
      "source": [
        "___\n",
        "**7. Load the titanic.csv dataset using pandas and plot the 'fare' column with a line plot. Customize the plot to have a green line with triangle markers, a title \"Fare Plot\", and labels for the x and y axes.?**\n",
        "___"
      ]
    },
    {
      "cell_type": "code",
      "execution_count": null,
      "metadata": {
        "id": "aD0z2j6bjXuN"
      },
      "outputs": [],
      "source": [
        "#Code here::\n",
        "import pandas as pd\n",
        "import matplotlib.pyplot as plt\n",
        "\n",
        "df = pd.read_csv(\"titanic.csv\")\n",
        "\n",
        "plt.plot(df['fare'], color='green', marker='^')\n",
        "\n",
        "plt.title(\"Fare Plot\")\n",
        "plt.xlabel(\"Index\")\n",
        "plt.ylabel(\"Fare\")\n",
        "\n",
        "plt.show()\n",
        "\n"
      ]
    },
    {
      "cell_type": "markdown",
      "metadata": {
        "id": "9NSW9hq9jXuN"
      },
      "source": [
        "___\n",
        "**8. Plot a histogram of the 'age' column from the Titanic dataset. Customize the histogram to have 50 bins, a title \"Age Distribution\", and a red color for the bars.**\n",
        "___"
      ]
    },
    {
      "cell_type": "code",
      "execution_count": null,
      "metadata": {
        "id": "LCH_-DDDjXuN"
      },
      "outputs": [],
      "source": [
        "#Code here:\n",
        "import pandas as pd\n",
        "import matplotlib.pyplot as plt\n",
        "\n",
        "df = pd.read_csv(\"titanic.csv\")\n",
        "\n",
        "plt.hist(df['age'].dropna(), bins=50, color='red')\n",
        "\n",
        "plt.title(\"Age Distribution\")\n",
        "plt.xlabel(\"Age\")\n",
        "plt.ylabel(\"Frequency\")\n",
        "\n",
        "plt.show()\n"
      ]
    },
    {
      "cell_type": "markdown",
      "metadata": {
        "id": "uxbwT7ymjXuN"
      },
      "source": [
        "___\n",
        "**9.Create a bar chart of the 'pclass' column in Titanic dataset, showing the count of each class. Set the color of the bars to blue.**\n",
        "___"
      ]
    },
    {
      "cell_type": "code",
      "execution_count": null,
      "metadata": {
        "id": "zVl91qHbjXuN"
      },
      "outputs": [],
      "source": [
        "#Code here:\n",
        "import pandas as pd\n",
        "import matplotlib.pyplot as plt\n",
        "\n",
        "df = pd.read_csv(\"titanic.csv\")\n",
        "\n",
        "pclass_counts = df['pclass'].value_counts()\n",
        "\n",
        "plt.bar(pclass_counts.index, pclass_counts.values, color='blue')\n",
        "\n",
        "plt.title(\"Passenger Class Distribution\")\n",
        "plt.xlabel(\"Passenger Class\")\n",
        "plt.ylabel(\"Count\")\n",
        "\n",
        "plt.show()\n"
      ]
    },
    {
      "cell_type": "markdown",
      "metadata": {
        "id": "36l6HwYnjXuN"
      },
      "source": [
        "___\n",
        "**10. Create a pie chart for the 'sex' column in the Titanic dataset. Set the colors to ['lightblue', 'pink'] and add a title \"Gender Distribution\".**\n",
        "___"
      ]
    },
    {
      "cell_type": "code",
      "execution_count": null,
      "metadata": {
        "id": "obqiMBuhjXuN"
      },
      "outputs": [],
      "source": [
        "#Code here:\n",
        "import pandas as pd\n",
        "import matplotlib.pyplot as plt\n",
        "\n",
        "df = pd.read_csv(\"titanic.csv\")\n",
        "\n",
        "sex_counts = df['sex'].value_counts()\n",
        "\n",
        "plt.pie(sex_counts, labels=sex_counts.index, colors=['lightblue', 'pink'], autopct='%1.1f%%', startangle=90)\n",
        "\n",
        "plt.title(\"Gender Distribution\")\n",
        "plt.show()\n",
        "why"
      ]
    },
    {
      "cell_type": "markdown",
      "metadata": {
        "id": "kv-luEnzjXuN"
      },
      "source": [
        "___\n",
        "**11. Using the Titanic dataset, plot a scatter plot of 'age' vs 'fare' and color the points by 'survived'. Set the colormap to 'coolwarm'.**\n",
        "___"
      ]
    },
    {
      "cell_type": "code",
      "execution_count": null,
      "metadata": {
        "id": "ZT1FOTNfjXuN"
      },
      "outputs": [],
      "source": [
        "#Code here:\n",
        "import pandas as pd\n",
        "import matplotlib.pyplot as plt\n",
        "\n",
        "df = pd.read_csv(\"titanic.csv\")\n",
        "\n",
        "plt.scatter(df['age'], df['fare'], c=df['survived'], cmap='coolwarm')\n",
        "\n",
        "plt.title(\"Age vs Fare (Colored by Survival)\")\n",
        "plt.xlabel(\"Age\")\n",
        "plt.ylabel(\"Fare\")\n",
        "\n",
        "plt.colorbar(label=\"Survived\")\n",
        "plt.show()\n"
      ]
    },
    {
      "cell_type": "markdown",
      "metadata": {
        "id": "M3Ba3BXhjXuN"
      },
      "source": [
        "___\n",
        "**12. Using the Titanic dataset, create a line plot of the 'age' column and customize the x-axis and y-axis ticks to show every 100 passengers and every 10 years of age, respectively.**\n",
        "___"
      ]
    },
    {
      "cell_type": "code",
      "execution_count": null,
      "metadata": {
        "id": "X4rA59EQjXuN"
      },
      "outputs": [],
      "source": [
        "#Code here:\n",
        "import pandas as pd\n",
        "import matplotlib.pyplot as plt\n",
        "\n",
        "df = pd.read_csv(\"titanic.csv\")\n",
        "\n",
        "plt.plot(df['age'])\n",
        "\n",
        "plt.title(\"Age of Passengers\")\n",
        "plt.xlabel(\"Passenger Index\")\n",
        "plt.ylabel(\"Age\")\n",
        "\n",
        "plt.xticks(range(0, len(df), 100))\n",
        "plt.yticks(range(0, int(df['age'].max()) + 1, 10))\n",
        "\n",
        "plt.show()\n"
      ]
    },
    {
      "cell_type": "markdown",
      "metadata": {
        "id": "ynKM4h9VjXuN"
      },
      "source": [
        "___\n",
        "**13. Create a cumulative histogram of the 'fare' column from the Titanic dataset with 50 bins and a blue color.**\n",
        "___"
      ]
    },
    {
      "cell_type": "code",
      "execution_count": null,
      "metadata": {
        "id": "NozY1c0PjXuN"
      },
      "outputs": [],
      "source": [
        "#Code here:\n",
        "import pandas as pd\n",
        "import matplotlib.pyplot as plt\n",
        "\n",
        "df = pd.read_csv(\"titanic.csv\")\n",
        "\n",
        "plt.hist(df['fare'].dropna(), bins=50, color='blue', cumulative=True)\n",
        "\n",
        "plt.title(\"Cumulative Fare Distribution\")\n",
        "plt.xlabel(\"Fare\")\n",
        "plt.ylabel(\"Cumulative Frequency\")\n",
        "\n",
        "plt.show()\n"
      ]
    },
    {
      "cell_type": "markdown",
      "metadata": {
        "id": "mWjkxRQ7jXuN"
      },
      "source": [
        "___\n",
        "**14. Using the Titanic dataset plot a customized scatter plot of 'age' vs 'fare' with the size of the points determined by 'sibsp' (number of siblings/spouses aboard).**\n",
        "___"
      ]
    },
    {
      "cell_type": "code",
      "execution_count": null,
      "metadata": {
        "id": "pQY_TsT3jXuN"
      },
      "outputs": [],
      "source": [
        "#Code here:\n",
        "import pandas as pd\n",
        "import matplotlib.pyplot as plt\n",
        "\n",
        "df = pd.read_csv(\"titanic.csv\")\n",
        "\n",
        "plt.scatter(df['age'], df['fare'], s=df['sibsp'] * 50, alpha=0.6)\n",
        "\n",
        "plt.title(\"Age vs Fare (Point Size = Siblings/Spouses Aboard)\")\n",
        "plt.xlabel(\"Age\")\n",
        "plt.ylabel(\"Fare\")\n",
        "\n",
        "plt.show()\n"
      ]
    },
    {
      "cell_type": "markdown",
      "metadata": {
        "id": "528YS_zDjXuN"
      },
      "source": [
        "___\n",
        "**15. Create a histogram of the 'age' column from the Titanic dataset, setting the y-axis label to 'Density', and enabling density normalization.**\n",
        "___"
      ]
    },
    {
      "cell_type": "code",
      "execution_count": null,
      "metadata": {
        "id": "W8iT5ZHijXuN"
      },
      "outputs": [],
      "source": [
        "#Code here:\n",
        "import pandas as pd\n",
        "import matplotlib.pyplot as plt\n",
        "\n",
        "df = pd.read_csv(\"titanic.csv\")\n",
        "\n",
        "plt.hist(df['age'].dropna(), bins=30, density=True, color='skyblue', edgecolor='black')\n",
        "\n",
        "plt.title(\"Age Distribution\")\n",
        "plt.xlabel(\"Age\")\n",
        "plt.ylabel(\"Density\")\n",
        "\n",
        "plt.show()\n"
      ]
    },
    {
      "cell_type": "markdown",
      "metadata": {
        "id": "6NYu3YgPjXuO"
      },
      "source": [
        "___\n",
        "**16. Using the Titanic dataset and create a line plot of the 'age' column. Customize the plot with a dashed line style, magenta color, and add a grid.**\n",
        "___"
      ]
    },
    {
      "cell_type": "code",
      "execution_count": null,
      "metadata": {
        "id": "tfYvhgeGjXuO"
      },
      "outputs": [],
      "source": [
        "#Code here:\n",
        "import pandas as pd\n",
        "import matplotlib.pyplot as plt\n",
        "\n",
        "df = pd.read_csv(\"titanic.csv\")\n",
        "\n",
        "plt.plot(df['age'], linestyle='--', color='magenta')\n",
        "\n",
        "plt.title(\"Age of Passengers\")\n",
        "plt.xlabel(\"Passenger Index\")\n",
        "plt.ylabel(\"Age\")\n",
        "plt.grid(True)\n",
        "\n",
        "plt.show()\n"
      ]
    },
    {
      "cell_type": "markdown",
      "metadata": {
        "id": "iDB2Sq2ljXuO"
      },
      "source": [
        "___\n",
        "**17. Using the Titanic dataset, plot a histogram of the 'fare' column with 100 bins. Customize the plot to use the 'ggplot' style.**\n",
        "___"
      ]
    },
    {
      "cell_type": "code",
      "execution_count": null,
      "metadata": {
        "id": "Yo3Z9eobjXuO"
      },
      "outputs": [],
      "source": [
        "#Code here:\n",
        "import pandas as pd\n",
        "import matplotlib.pyplot as plt\n",
        "\n",
        "plt.style.use('ggplot')\n",
        "\n",
        "df = pd.read_csv(\"titanic.csv\")\n",
        "\n",
        "plt.hist(df['fare'].dropna(), bins=100, color='steelblue', edgecolor='black')\n",
        "\n",
        "plt.title(\"Fare Distribution\")\n",
        "plt.xlabel(\"Fare\")\n",
        "plt.ylabel(\"Frequency\")\n",
        "\n",
        "plt.show()\n"
      ]
    },
    {
      "cell_type": "markdown",
      "metadata": {
        "id": "_mfGmrx-jXuO"
      },
      "source": [
        "___\n",
        "**18. Create a scatter plot from the Titanic dataset with 'age' on the x-axis and 'fare' on the y-axis. Customize the plot with a red cross ('x') marker and set the plot title to \"Age vs Fare Scatter Plot\".**\n",
        "___"
      ]
    },
    {
      "cell_type": "code",
      "execution_count": null,
      "metadata": {
        "id": "AmmpCOXWjXuO"
      },
      "outputs": [],
      "source": [
        "#Code here:\n",
        "import pandas as pd\n",
        "import matplotlib.pyplot as plt\n",
        "\n",
        "df = pd.read_csv(\"titanic.csv\")\n",
        "\n",
        "plt.scatter(df['age'], df['fare'], marker='x', color='red')\n",
        "\n",
        "plt.title(\"Age vs Fare Scatter Plot\")\n",
        "plt.xlabel(\"Age\")\n",
        "plt.ylabel(\"Fare\")\n",
        "\n",
        "plt.show()\n"
      ]
    },
    {
      "cell_type": "markdown",
      "metadata": {
        "id": "iIQa9tW-jXuO"
      },
      "source": [
        "___\n",
        "**19. Using the Titanic dataset create a figure with two subplots: one subplot showing a histogram of the 'age' column with 50 bins and the second subplot showing a bar chart of the 'pclass' column. Ensure that both plots share the same x-axis.**\n",
        "___"
      ]
    },
    {
      "cell_type": "code",
      "execution_count": null,
      "metadata": {
        "id": "F-7Lqw-0jXuO"
      },
      "outputs": [],
      "source": [
        "#Code here:\n",
        "import pandas as pd\n",
        "import matplotlib.pyplot as plt\n",
        "\n",
        "df = pd.read_csv(\"titanic.csv\")\n",
        "\n",
        "fig, (ax1, ax2) = plt.subplots(2, 1, sharex=True, figsize=(8, 6))\n",
        "\n",
        "ax1.hist(df['age'].dropna(), bins=50, color='skyblue', edgecolor='black')\n",
        "ax1.set_title(\"Age Distribution\")\n",
        "ax1.set_ylabel(\"Frequency\")\n",
        "\n",
        "pclass_counts = df['pclass'].value_counts().sort_index()\n",
        "ax2.bar(pclass_counts.index, pclass_counts.values, color='lightgreen', edgecolor='black')\n",
        "ax2.set_title(\"Passenger Class Distribution\")\n",
        "ax2.set_xlabel(\"Value\")\n",
        "ax2.set_ylabel(\"Count\")\n",
        "\n",
        "plt.tight_layout()\n",
        "plt.show()\n"
      ]
    },
    {
      "cell_type": "markdown",
      "metadata": {
        "id": "8R8EpAgUjXuO"
      },
      "source": [
        "___\n",
        "**20. Using the Titanic dataset create a figure with two subplots: the first subplot should display a line plot of the 'age' column, and the second subplot should display a bar chart of the 'sex' column showing the count of each gender.**\n",
        "___"
      ]
    },
    {
      "cell_type": "code",
      "execution_count": null,
      "metadata": {
        "id": "9n3SV9H0jXuO"
      },
      "outputs": [],
      "source": [
        "#Code here:\n",
        "\n",
        "import pandas as pd\n",
        "import matplotlib.pyplot as plt\n",
        "\n",
        "df = pd.read_csv(\"titanic.csv\")\n",
        "\n",
        "fig, (ax1, ax2) = plt.subplots(2, 1, figsize=(8, 6))\n",
        "\n",
        "ax1.plot(df['age'], color='blue')\n",
        "ax1.set_title(\"Age of Passengers\")\n",
        "ax1.set_ylabel(\"Age\")\n",
        "\n",
        "sex_counts = df['sex'].value_counts()\n",
        "ax2.bar(sex_counts.index, sex_counts.values, color=['lightblue', 'pink'])\n",
        "ax2.set_title(\"Gender Distribution\")\n",
        "ax2.set_xlabel(\"Gender\")\n",
        "ax2.set_ylabel(\"Count\")\n",
        "\n",
        "plt.tight_layout()\n",
        "plt.show()\n"
      ]
    },
    {
      "cell_type": "markdown",
      "metadata": {
        "id": "SgtWgISgjXuO"
      },
      "source": [
        "___\n",
        "### Good Luck!"
      ]
    }
  ],
  "metadata": {
    "colab": {
      "provenance": []
    },
    "kernelspec": {
      "display_name": "Python 3 (ipykernel)",
      "language": "python",
      "name": "python3"
    },
    "language_info": {
      "codemirror_mode": {
        "name": "ipython",
        "version": 3
      },
      "file_extension": ".py",
      "mimetype": "text/x-python",
      "name": "python",
      "nbconvert_exporter": "python",
      "pygments_lexer": "ipython3",
      "version": "3.11.7"
    }
  },
  "nbformat": 4,
  "nbformat_minor": 0
}
